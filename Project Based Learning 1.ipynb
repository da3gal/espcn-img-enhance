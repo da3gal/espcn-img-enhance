{
  "nbformat": 4,
  "nbformat_minor": 0,
  "metadata": {
    "colab": {
      "provenance": []
    },
    "kernelspec": {
      "name": "python3",
      "display_name": "Python 3"
    },
    "language_info": {
      "name": "python"
    }
  },
  "cells": [
    {
      "cell_type": "markdown",
      "source": [
        "DOWNSCALING IMAGE"
      ],
      "metadata": {
        "id": "k1walWPeU9hx"
      }
    },
    {
      "cell_type": "code",
      "execution_count": null,
      "metadata": {
        "id": "a62t9v2FU62Z"
      },
      "outputs": [],
      "source": [
        "pip install piexif"
      ]
    },
    {
      "cell_type": "code",
      "source": [
        "# IF THE IMAGE IS IN .JPG FORMAT\n",
        "# IT SHOULD BE CONTAIN EXIF DATA\n",
        "# THEN BETTER TO REMOVE SO THAT THERE IS NO ERROR IN FURTHER\n",
        "\n",
        "import os\n",
        "import piexif\n",
        "\n",
        "rootdir = \"/content/drive/MyDrive/uji gambar/lengkuas/\"\n",
        "\n",
        "def noMeta(file):\n",
        "  print(\"gutting exif data from {}\".format(file))\n",
        "  piexif.remove(file)\n",
        "\n",
        "for root, dir, files in os.walk(rootdir):\n",
        "  for file in files:\n",
        "    if file.lower().endswith(\".jpg\"):\n",
        "      noMeta(os.path.join(root, file))"
      ],
      "metadata": {
        "id": "Xt00EF4-U_Iu"
      },
      "execution_count": null,
      "outputs": []
    },
    {
      "cell_type": "code",
      "source": [
        "# PER ONE IMAGE\n",
        "\n",
        "from PIL import Image\n",
        "import numpy\n",
        "import cv2\n",
        "\n",
        "im = Image.open(\"/content/drive/MyDrive/uji gambar/jahe/IMG_20221030_110300.jpg\")\n",
        "im = ImageOps.exif_transpose(im)\n",
        "im.thumbnail([217, 217])\n",
        "open_cv_image = numpy.array(im)\n",
        "open_cv_image = open_cv_image[:, :, ::-1].copy()\n",
        "cv2.imwrite('thumbnail.jpg', open_cv_image)"
      ],
      "metadata": {
        "id": "fBlUhkRvVAUG"
      },
      "execution_count": null,
      "outputs": []
    },
    {
      "cell_type": "code",
      "source": [
        "# BULK\n",
        "\n",
        "import numpy\n",
        "import PIL\n",
        "from PIL import Image\n",
        "from PIL import Image, ImageOps\n",
        "import os\n",
        "import cv2\n",
        "\n",
        "path = '/content/drive/MyDrive/uji gambar/lengkuas/'\n",
        "export_path = '/content/drive/MyDrive/Colab Notebooks/pbl1 experimental dataset/export_path/lengkuas/lowres_'\n",
        "images = os.listdir(path)\n",
        "\n",
        "def resize():\n",
        "  for image in images:\n",
        "    image_name = image.rsplit('.',1)[0]\n",
        "    im = Image.open(path+image)\n",
        "    #if 'exif' in im.info: del im.info['exif']\n",
        "    #im.getexif().clear()\n",
        "    im = ImageOps.exif_transpose(im)\n",
        "    im.thumbnail([217, 217])\n",
        "    open_cv_image = numpy.array(im)\n",
        "    open_cv_image = open_cv_image[:, :, ::-1].copy()\n",
        "    cv2.imwrite(export_path+image_name+'.jpg', open_cv_image)\n",
        "resize()"
      ],
      "metadata": {
        "id": "BO2wZBnsVCFz"
      },
      "execution_count": null,
      "outputs": []
    },
    {
      "cell_type": "markdown",
      "source": [
        "IMAGE ENCHANTMENT USING ESPCN"
      ],
      "metadata": {
        "id": "blirTv46VE9A"
      }
    },
    {
      "cell_type": "code",
      "source": [
        "# PER IMAGE\n",
        "\n",
        "import cv2\n",
        "from cv2 import dnn_superres\n",
        "\n",
        "# Create an SR object\n",
        "sr = dnn_superres.DnnSuperResImpl_create()\n",
        "\n",
        "# Read image\n",
        "image = cv2.imread('/content/thumbnail.jpg')\n",
        "\n",
        "# Read the desired model\n",
        "path = \"/content/drive/MyDrive/Colab Notebooks/pbl1 experimental dataset/super resolution models/ESPCN_x4.pb\"\n",
        "sr.readModel(path)\n",
        "\n",
        "# Set the desired model and scale to get correct pre- and post-processing\n",
        "sr.setModel(\"espcn\", 4)\n",
        "\n",
        "# Upscale the image\n",
        "result = sr.upsample(image)\n",
        "\n",
        "# Save the image\n",
        "cv2.imwrite(\"image_upscaled.jpg\", result)"
      ],
      "metadata": {
        "id": "3VKo7YGyVDPs"
      },
      "execution_count": null,
      "outputs": []
    },
    {
      "cell_type": "code",
      "source": [
        "# BULK\n",
        "\n",
        "import cv2\n",
        "import os\n",
        "from cv2 import dnn_superres\n",
        "\n",
        "image_path = \"/content/drive/MyDrive/Colab Notebooks/pbl1 experimental dataset/lowres/jahe/\"\n",
        "export_path = \"/content/drive/MyDrive/Colab Notebooks/pbl1 experimental dataset/export_path/jahe/upscaled_\"\n",
        "model_path = \"/content/drive/MyDrive/Colab Notebooks/pbl1 experimental dataset/super resolution models/ESPCN_x4.pb\"\n",
        "images = os.listdir(image_path)\n",
        "\n",
        "def upscaling():\n",
        "  for image in images:\n",
        "    image_name = image.rsplit('.',1)[0]\n",
        "    sr = dnn_superres.DnnSuperResImpl_create()\n",
        "    image = cv2.imread(image_path+image)\n",
        "    sr.readModel(model_path)\n",
        "    sr.setModel(\"espcn\", 4)\n",
        "    result = sr.upsample(image)\n",
        "    cv2.imwrite(export_path+image_name+'.jpg', result)\n",
        "upscaling()"
      ],
      "metadata": {
        "id": "F805xbg8VHF0"
      },
      "execution_count": null,
      "outputs": []
    }
  ]
}